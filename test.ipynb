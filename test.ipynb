{
 "cells": [
  {
   "cell_type": "code",
   "execution_count": null,
   "metadata": {},
   "outputs": [],
   "source": [
    "import torch\n",
    "\n",
    "# Charger le checkpoint\n",
    "checkpoint = torch.load('/Users/meliya/Desktop/Projet 3A/cma/checkpoint/checkpoint_10.pth')\n",
    "\n",
    "# Afficher le contenu du checkpoint\n",
    "print(checkpoint)"
   ]
  }
 ],
 "metadata": {
  "language_info": {
   "name": "python"
  }
 },
 "nbformat": 4,
 "nbformat_minor": 2
}
